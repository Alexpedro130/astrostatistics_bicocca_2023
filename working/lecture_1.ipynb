{
 "cells": [
  {
   "cell_type": "code",
   "execution_count": 2,
   "id": "eefd4dd0",
   "metadata": {},
   "outputs": [],
   "source": [
    "import numpy as np\n",
    "from numpy import random as rnd"
   ]
  },
  {
   "cell_type": "code",
   "execution_count": 60,
   "id": "4966093e",
   "metadata": {},
   "outputs": [
    {
     "name": "stdout",
     "output_type": "stream",
     "text": [
      "keeper wins: 1.1 %\n",
      "switcher wins: 98.9 %\n",
      "newcomer wins: 48.9 %\n"
     ]
    }
   ],
   "source": [
    "# 0=goat, 1=car\n",
    "\n",
    "n_try=1000\n",
    "n_doors=100\n",
    "\n",
    "k_wins=0\n",
    "s_wins=0\n",
    "n_wins=0\n",
    "\n",
    "for i in range(n_try):\n",
    "    doors=np.zeros(n_doors-1, dtype=int)\n",
    "    doors=np.append(doors,1)\n",
    "    rnd.shuffle(doors)\n",
    "\n",
    "#    print(doors)\n",
    "\n",
    "    keeper=rnd.choice(doors)\n",
    "#    print(\"keeper=\", keeper)\n",
    "\n",
    "    for i in range(n_doors-2):\n",
    "        doors=np.delete(doors,(doors==0).argmax())\n",
    "        \n",
    "#    print(doors)        \n",
    "\n",
    "    new=rnd.choice(doors)\n",
    "#    print(\"newcomer=\", new)\n",
    "\n",
    "    switcher=0\n",
    "    if keeper==0:\n",
    "        switcher=1\n",
    "        s_wins+=1\n",
    "#    print(\"switcher=\", switcher)\n",
    "    \n",
    "    if keeper==1:\n",
    "        k_wins+=1\n",
    "    if new==1:\n",
    "        n_wins+=1\n",
    "\n",
    "print(\"keeper wins:\", round(k_wins/n_try*100,1), \"%\")\n",
    "print(\"switcher wins:\", round(s_wins/n_try*100,1), \"%\")\n",
    "print(\"newcomer wins:\", round(n_wins/n_try*100,1), \"%\")"
   ]
  }
 ],
 "metadata": {
  "kernelspec": {
   "display_name": "Python 3 (ipykernel)",
   "language": "python",
   "name": "python3"
  },
  "language_info": {
   "codemirror_mode": {
    "name": "ipython",
    "version": 3
   },
   "file_extension": ".py",
   "mimetype": "text/x-python",
   "name": "python",
   "nbconvert_exporter": "python",
   "pygments_lexer": "ipython3",
   "version": "3.9.7"
  }
 },
 "nbformat": 4,
 "nbformat_minor": 5
}
