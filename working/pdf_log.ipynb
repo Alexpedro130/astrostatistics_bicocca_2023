{
 "cells": [
  {
   "cell_type": "code",
   "execution_count": 3,
   "id": "dbeec7e2",
   "metadata": {},
   "outputs": [],
   "source": [
    "import numpy as np\n",
    "from numpy import random as rnd\n",
    "import matplotlib.pyplot as plt"
   ]
  },
  {
   "cell_type": "code",
   "execution_count": 5,
   "id": "cb1fd777",
   "metadata": {},
   "outputs": [
    {
     "data": {
      "text/plain": [
       "(array([0.09639411, 0.10467956, 0.10053683, 0.10690248, 0.10083996,\n",
       "        0.09639411, 0.09720245, 0.10397226, 0.1059931 , 0.09750557]),\n",
       " array([0.10205974, 1.09174676, 2.08143378, 3.0711208 , 4.06080782,\n",
       "        5.05049484, 6.04018186, 7.02986888, 8.0195559 , 9.00924292,\n",
       "        9.99892994]),\n",
       " [<matplotlib.patches.Polygon at 0x28537dcb700>])"
      ]
     },
     "execution_count": 5,
     "metadata": {},
     "output_type": "execute_result"
    },
    {
     "data": {
      "image/png": "[encoded data removed]",
      "text/plain": [
       "<Figure size 432x288 with 1 Axes>"
      ]
     },
     "metadata": {
      "needs_background": "light"
     },
     "output_type": "display_data"
    }
   ],
   "source": [
    "x=rnd.uniform(0.1,10,10000)\n",
    "plt.hist(x, histtype='step', lw=3, density=True)"
   ]
  },
  {
   "cell_type": "code",
   "execution_count": 12,
   "id": "44f97396",
   "metadata": {},
   "outputs": [
    {
     "data": {
      "text/plain": [
       "[<matplotlib.lines.Line2D at 0x2853a16b040>]"
      ]
     },
     "execution_count": 12,
     "metadata": {},
     "output_type": "execute_result"
    },
    {
     "data": {
      "image/png": "[encoded data removed]",
      "text/plain": [
       "<Figure size 432x288 with 1 Axes>"
      ]
     },
     "metadata": {
      "needs_background": "light"
     },
     "output_type": "display_data"
    }
   ],
   "source": [
    "y=np.log10(x)\n",
    "plt.hist(y, histtype='step', lw=3, density=True)\n",
    "\n",
    "#compute the pdf\n",
    "#dx/dy=10^y*log(10) -> p(y)=10^y*log(10)/(10-0.1)\n",
    "\n",
    "x_ax = np.linspace(-1,1,100)\n",
    "fun_y = 10**x_ax *np.log(10)/(10-0.1)\n",
    "plt.plot(x_ax,fun_y)"
   ]
  },
  {
   "cell_type": "code",
   "execution_count": 18,
   "id": "c4904662",
   "metadata": {},
   "outputs": [
    {
     "name": "stdout",
     "output_type": "stream",
     "text": [
      "the two means are different:\n",
      "0.5861103122199269 0.702976416926001\n",
      "the two medians are the same:\n",
      "0.6996458796532508 0.6996458796605433\n"
     ]
    }
   ],
   "source": [
    "print(\"the two means are different:\")\n",
    "print(np.mean(y), np.log10(np.mean(x)))\n",
    "print(\"the two medians are the same:\")\n",
    "print(np.median(y), np.log10(np.median(x)))"
   ]
  }
 ],
 "metadata": {
  "kernelspec": {
   "display_name": "Python 3 (ipykernel)",
   "language": "python",
   "name": "python3"
  },
  "language_info": {
   "codemirror_mode": {
    "name": "ipython",
    "version": 3
   },
   "file_extension": ".py",
   "mimetype": "text/x-python",
   "name": "python",
   "nbconvert_exporter": "python",
   "pygments_lexer": "ipython3",
   "version": "3.9.7"
  }
 },
 "nbformat": 4,
 "nbformat_minor": 5
}
