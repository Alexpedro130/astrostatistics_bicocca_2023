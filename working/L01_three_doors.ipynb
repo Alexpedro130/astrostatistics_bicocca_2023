{
 "cells": [
  {
   "cell_type": "markdown",
   "id": "8e6c7637",
   "metadata": {},
   "source": [
    "## Time to get you hands dirty!"
   ]
  },
  {
   "cell_type": "markdown",
   "id": "28f7b488",
   "metadata": {},
   "source": [
    "### Simulate the Monty Hall Problem\n",
    "\n",
    "- Simulate three doors, one car, and two goats.\n",
    " - Simulate three players: the switcher, the conservative, and the newcomer. \n",
    " - Record who wins.\n",
    " - Repeat it many times.\n",
    " - Which player do you want to be?\n",
    " \n",
    " - What would happen if you had 100 doors to choose from and the presenter opens 98 or them?"
   ]
  },
  {
   "cell_type": "code",
   "execution_count": 3,
   "id": "eefd4dd0",
   "metadata": {},
   "outputs": [],
   "source": [
    "import numpy as np\n",
    "from numpy import random as rnd"
   ]
  },
  {
   "cell_type": "code",
   "execution_count": 5,
   "id": "4966093e",
   "metadata": {},
   "outputs": [
    {
     "name": "stdout",
     "output_type": "stream",
     "text": [
      "keeper wins: 1.0 %\n",
      "switcher wins: 99.0 %\n",
      "newcomer wins: 52.9 %\n"
     ]
    }
   ],
   "source": [
    "# 0=goat, 1=car\n",
    "\n",
    "n_try=1000\n",
    "n_doors=100\n",
    "\n",
    "k_wins=0\n",
    "s_wins=0\n",
    "n_wins=0\n",
    "\n",
    "for i in range(n_try):\n",
    "    doors=np.zeros(n_doors-1, dtype=int)\n",
    "    doors=np.append(doors,1)\n",
    "    rnd.shuffle(doors)\n",
    "\n",
    "#    print(doors)\n",
    "\n",
    "    keeper=rnd.choice(doors)\n",
    "#    print(\"keeper=\", keeper)\n",
    "\n",
    "    for i in range(n_doors-2):\n",
    "        doors=np.delete(doors,(doors==0).argmax())\n",
    "        \n",
    "#    print(doors)        \n",
    "\n",
    "    new=rnd.choice(doors)\n",
    "#    print(\"newcomer=\", new)\n",
    "\n",
    "    switcher=0\n",
    "    if keeper==0:\n",
    "        switcher=1\n",
    "        s_wins+=1\n",
    "#    print(\"switcher=\", switcher)\n",
    "    \n",
    "    if keeper==1:\n",
    "        k_wins+=1\n",
    "    if new==1:\n",
    "        n_wins+=1\n",
    "\n",
    "print(\"keeper wins:\", round(k_wins/n_try*100,1), \"%\")\n",
    "print(\"switcher wins:\", round(s_wins/n_try*100,1), \"%\")\n",
    "print(\"newcomer wins:\", round(n_wins/n_try*100,1), \"%\")"
   ]
  }
 ],
 "metadata": {
  "kernelspec": {
   "display_name": "Python 3 (ipykernel)",
   "language": "python",
   "name": "python3"
  },
  "language_info": {
   "codemirror_mode": {
    "name": "ipython",
    "version": 3
   },
   "file_extension": ".py",
   "mimetype": "text/x-python",
   "name": "python",
   "nbconvert_exporter": "python",
   "pygments_lexer": "ipython3",
   "version": "3.10.6"
  }
 },
 "nbformat": 4,
 "nbformat_minor": 5
}
